{
 "cells": [
  {
   "cell_type": "markdown",
   "id": "62fd1b31",
   "metadata": {},
   "source": [
    "# Important Points in pandas:\n",
    "\n",
    "### ● Pandas is used for working with data sets\n",
    "### ● Series1 + Series2 + Series3 = DataFrame\n",
    "### ● A Series is a 1D array consist of : values + labels(index)\n",
    "### ● These values are similar types\n",
    "### ● Series(list) convert the list to a column in the table"
   ]
  },
  {
   "cell_type": "code",
   "execution_count": 1,
   "id": "4197fd81",
   "metadata": {},
   "outputs": [
    {
     "data": {
      "text/plain": [
       "['Ahmed', 'Ali', 'Salah']"
      ]
     },
     "execution_count": 1,
     "metadata": {},
     "output_type": "execute_result"
    }
   ],
   "source": [
    "import pandas as pd\n",
    "\n",
    "list = ['Ahmed', 'Ali', 'Salah']\n",
    "series = pd.Series(list)\n",
    "list"
   ]
  },
  {
   "cell_type": "code",
   "execution_count": 2,
   "id": "4443df10",
   "metadata": {},
   "outputs": [
    {
     "data": {
      "text/plain": [
       "0    Ahmed\n",
       "1      Ali\n",
       "2    Salah\n",
       "dtype: object"
      ]
     },
     "execution_count": 2,
     "metadata": {},
     "output_type": "execute_result"
    }
   ],
   "source": [
    "series"
   ]
  },
  {
   "cell_type": "markdown",
   "id": "542e6b03",
   "metadata": {},
   "source": [
    "# To get Values of series and index of series:"
   ]
  },
  {
   "cell_type": "code",
   "execution_count": 3,
   "id": "a49e6deb",
   "metadata": {},
   "outputs": [
    {
     "data": {
      "text/plain": [
       "array(['Ahmed', 'Ali', 'Salah', 'Khaled'], dtype=object)"
      ]
     },
     "execution_count": 3,
     "metadata": {},
     "output_type": "execute_result"
    }
   ],
   "source": [
    "list = ['Ahmed', 'Ali', 'Salah', 'Khaled']\n",
    "series = pd.Series(list)\n",
    "values = series.values\n",
    "index = series.index\n",
    "values"
   ]
  },
  {
   "cell_type": "code",
   "execution_count": 4,
   "id": "ddbf4a44",
   "metadata": {},
   "outputs": [
    {
     "data": {
      "text/plain": [
       "RangeIndex(start=0, stop=4, step=1)"
      ]
     },
     "execution_count": 4,
     "metadata": {},
     "output_type": "execute_result"
    }
   ],
   "source": [
    "index"
   ]
  },
  {
   "cell_type": "markdown",
   "id": "0334ae92",
   "metadata": {},
   "source": [
    "# To change the index of the table:"
   ]
  },
  {
   "cell_type": "code",
   "execution_count": 5,
   "id": "e1934412",
   "metadata": {},
   "outputs": [
    {
     "data": {
      "text/plain": [
       "a     Ahmed\n",
       "b       Ali\n",
       "c     Salah\n",
       "d    Khaled\n",
       "dtype: object"
      ]
     },
     "execution_count": 5,
     "metadata": {},
     "output_type": "execute_result"
    }
   ],
   "source": [
    "list = ['Ahmed', 'Ali', 'Salah', 'Khaled']\n",
    "index_1 = pd.Index(['a', 'b', 'c', 'd'])\n",
    "index_2 = pd.RangeIndex(start = 1, stop = 5, step = 1)\n",
    "ser_1 = pd.Series(list, index_1)\n",
    "ser_2 = pd.Series(list, index_2)\n",
    "ser_1"
   ]
  },
  {
   "cell_type": "code",
   "execution_count": 6,
   "id": "4910aa40",
   "metadata": {},
   "outputs": [
    {
     "data": {
      "text/plain": [
       "1     Ahmed\n",
       "2       Ali\n",
       "3     Salah\n",
       "4    Khaled\n",
       "dtype: object"
      ]
     },
     "execution_count": 6,
     "metadata": {},
     "output_type": "execute_result"
    }
   ],
   "source": [
    "ser_2"
   ]
  },
  {
   "cell_type": "markdown",
   "id": "bbb54aed",
   "metadata": {},
   "source": [
    "# Describe Method() return statistics information:"
   ]
  },
  {
   "cell_type": "code",
   "execution_count": 7,
   "id": "600c0648",
   "metadata": {},
   "outputs": [
    {
     "name": "stdout",
     "output_type": "stream",
     "text": [
      "count     6.000000\n",
      "mean     17.500000\n",
      "std       9.354143\n",
      "min       5.000000\n",
      "25%      11.250000\n",
      "50%      17.500000\n",
      "75%      23.750000\n",
      "max      30.000000\n",
      "dtype: float64\n",
      "--------------------\n",
      "count     6\n",
      "unique    4\n",
      "top       a\n",
      "freq      3\n",
      "dtype: object\n"
     ]
    }
   ],
   "source": [
    "list1 = [5, 10, 15, 20, 25, 30]  # numbers\n",
    "ser1 = pd.Series(list1)\n",
    "print(ser1.describe())\n",
    "print(20 * '-')\n",
    "\n",
    "list2 = ['a', 'b', 'c', 'a', 'a', 'd']  # str\n",
    "ser2 = pd.Series(list2)\n",
    "print(ser2.describe())"
   ]
  },
  {
   "cell_type": "markdown",
   "id": "1a8d4e58",
   "metadata": {},
   "source": [
    "# How to get one property in Describe Method():"
   ]
  },
  {
   "cell_type": "code",
   "execution_count": 8,
   "id": "0048da07",
   "metadata": {},
   "outputs": [
    {
     "name": "stdout",
     "output_type": "stream",
     "text": [
      "17.5\n",
      "------------------\n",
      "9.354143466934854\n",
      "------------------\n",
      "30\n",
      "------------------\n",
      "105\n"
     ]
    }
   ],
   "source": [
    "list = [5, 10, 15, 20, 25, 30]\n",
    "ser = pd.Series(list)\n",
    "\n",
    "print(ser.mean())\n",
    "print(18 * '-')\n",
    "\n",
    "print(ser.std())\n",
    "print(18 * '-')\n",
    "\n",
    "print(ser.max())\n",
    "print(18 * '-')\n",
    "\n",
    "print(ser.sum())"
   ]
  },
  {
   "cell_type": "markdown",
   "id": "b5a8a7c7",
   "metadata": {},
   "source": [
    "## Data Frame is 2D size mutable, potentially heterogeneous tabular data structure with labeled axes (rows and columns):"
   ]
  },
  {
   "cell_type": "code",
   "execution_count": 9,
   "id": "1d068f0c",
   "metadata": {},
   "outputs": [
    {
     "name": "stdout",
     "output_type": "stream",
     "text": [
      "      0\n",
      "0  1000\n",
      "1  2000\n",
      "2  3000\n",
      "3  4000\n",
      "---------------\n",
      "   Salary\n",
      "a    1000\n",
      "b    2000\n",
      "c    3000\n",
      "d    4000\n"
     ]
    }
   ],
   "source": [
    "list = [1000, 2000, 3000, 4000]\n",
    "DF_1 = pd.DataFrame(list)\n",
    "DF_2 = pd.DataFrame(list, index=['a', 'b', 'c', 'd'], columns=['Salary'])\n",
    "\n",
    "print(DF_1)\n",
    "print('-' * 15)\n",
    "\n",
    "print(DF_2)"
   ]
  },
  {
   "cell_type": "markdown",
   "id": "0fbb8dc6",
   "metadata": {},
   "source": [
    "# How to get index, values, and column frames:"
   ]
  },
  {
   "cell_type": "code",
   "execution_count": 10,
   "id": "40e1100b",
   "metadata": {},
   "outputs": [
    {
     "name": "stdout",
     "output_type": "stream",
     "text": [
      "RangeIndex(start=0, stop=4, step=1)\n",
      "-----------------------------------\n",
      "[[1000]\n",
      " [2000]\n",
      " [3000]\n",
      " [4000]]\n",
      "-----------------------------------\n",
      "RangeIndex(start=0, stop=1, step=1)\n"
     ]
    }
   ],
   "source": [
    "list = [1000, 2000, 3000, 4000]\n",
    "DF_1 = pd.DataFrame(list)\n",
    "\n",
    "print(DF_1.index)\n",
    "print('-' * 35)\n",
    "\n",
    "print(DF_1.values)\n",
    "print('-' * 35)\n",
    "\n",
    "print(DF_1.columns)"
   ]
  },
  {
   "cell_type": "markdown",
   "id": "a7ec1f8a",
   "metadata": {},
   "source": [
    "# Describe DataFrame:"
   ]
  },
  {
   "cell_type": "code",
   "execution_count": 11,
   "id": "a1f1520f",
   "metadata": {
    "scrolled": true
   },
   "outputs": [
    {
     "name": "stdout",
     "output_type": "stream",
     "text": [
      "                 0\n",
      "count     4.000000\n",
      "mean   2500.000000\n",
      "std    1290.994449\n",
      "min    1000.000000\n",
      "25%    1750.000000\n",
      "50%    2500.000000\n",
      "75%    3250.000000\n",
      "max    4000.000000\n"
     ]
    }
   ],
   "source": [
    "ist = [1000, 2000, 3000, 4000]\n",
    "DF_1 = pd.DataFrame(list)\n",
    "print(DF_1.describe())"
   ]
  }
 ],
 "metadata": {
  "kernelspec": {
   "display_name": "Python 3 (ipykernel)",
   "language": "python",
   "name": "python3"
  },
  "language_info": {
   "codemirror_mode": {
    "name": "ipython",
    "version": 3
   },
   "file_extension": ".py",
   "mimetype": "text/x-python",
   "name": "python",
   "nbconvert_exporter": "python",
   "pygments_lexer": "ipython3",
   "version": "3.11.5"
  }
 },
 "nbformat": 4,
 "nbformat_minor": 5
}
