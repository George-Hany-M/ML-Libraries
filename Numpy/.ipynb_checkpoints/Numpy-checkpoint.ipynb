{
 "cells": [
  {
   "cell_type": "markdown",
   "id": "3a7fe729",
   "metadata": {},
   "source": [
    "# Importing numpy library:"
   ]
  },
  {
   "cell_type": "code",
   "execution_count": 1,
   "id": "cfd1612c",
   "metadata": {},
   "outputs": [],
   "source": [
    "import numpy as np"
   ]
  },
  {
   "cell_type": "markdown",
   "id": "a5b5581a",
   "metadata": {},
   "source": [
    "# Create array and print its type:"
   ]
  },
  {
   "cell_type": "code",
   "execution_count": 2,
   "id": "9f609b1c",
   "metadata": {},
   "outputs": [
    {
     "data": {
      "text/plain": [
       "array([1, 2, 3])"
      ]
     },
     "execution_count": 2,
     "metadata": {},
     "output_type": "execute_result"
    }
   ],
   "source": [
    "a = np.array([1, 2, 3])\n",
    "a"
   ]
  },
  {
   "cell_type": "code",
   "execution_count": 3,
   "id": "39a78817",
   "metadata": {},
   "outputs": [
    {
     "data": {
      "text/plain": [
       "numpy.ndarray"
      ]
     },
     "execution_count": 3,
     "metadata": {},
     "output_type": "execute_result"
    }
   ],
   "source": [
    "type(a)"
   ]
  },
  {
   "cell_type": "markdown",
   "id": "bae8cf90",
   "metadata": {},
   "source": [
    "# Array of integers and floats:\n",
    "\n",
    "## If there is at least one float number in the array, then all numbers became float in the array."
   ]
  },
  {
   "cell_type": "code",
   "execution_count": 4,
   "id": "0df6a995",
   "metadata": {},
   "outputs": [
    {
     "data": {
      "text/plain": [
       "array([[1, 2, 3],\n",
       "       [4, 5, 6]])"
      ]
     },
     "execution_count": 4,
     "metadata": {},
     "output_type": "execute_result"
    }
   ],
   "source": [
    "# Array Of Integers\n",
    "A = np.array([[1, 2, 3], [4, 5, 6]])\n",
    "A"
   ]
  },
  {
   "cell_type": "code",
   "execution_count": 5,
   "id": "8bac160c",
   "metadata": {},
   "outputs": [
    {
     "data": {
      "text/plain": [
       "array([[1.1, 2. , 3. ],\n",
       "       [4. , 5. , 6. ]])"
      ]
     },
     "execution_count": 5,
     "metadata": {},
     "output_type": "execute_result"
    }
   ],
   "source": [
    "# Array Of Floats\n",
    "B = np.array([[1.1, 2, 3], [4, 5, 6]])\n",
    "B"
   ]
  },
  {
   "cell_type": "markdown",
   "id": "1c8ded5f",
   "metadata": {},
   "source": [
    "# Array of zeros and ones:\n",
    "\n",
    "## np. zeros() and np.ones() creates an array of float data type, By default."
   ]
  },
  {
   "cell_type": "code",
   "execution_count": 6,
   "id": "4a7223c3",
   "metadata": {},
   "outputs": [
    {
     "data": {
      "text/plain": [
       "array([[0., 0., 0.],\n",
       "       [0., 0., 0.]])"
      ]
     },
     "execution_count": 6,
     "metadata": {},
     "output_type": "execute_result"
    }
   ],
   "source": [
    "A = np.zeros((2, 3))  # (row, column)\n",
    "A"
   ]
  },
  {
   "cell_type": "code",
   "execution_count": 7,
   "id": "34b9d5eb",
   "metadata": {},
   "outputs": [
    {
     "data": {
      "text/plain": [
       "array([[1., 1., 1.],\n",
       "       [1., 1., 1.]])"
      ]
     },
     "execution_count": 7,
     "metadata": {},
     "output_type": "execute_result"
    }
   ],
   "source": [
    "B = np.ones((2, 3))  # (row, column)\n",
    "B"
   ]
  },
  {
   "cell_type": "code",
   "execution_count": 8,
   "id": "8898c388",
   "metadata": {},
   "outputs": [
    {
     "data": {
      "text/plain": [
       "array([[0, 0, 0],\n",
       "       [0, 0, 0]])"
      ]
     },
     "execution_count": 8,
     "metadata": {},
     "output_type": "execute_result"
    }
   ],
   "source": [
    "# specifying dtype of array A\n",
    "A = np.zeros((2, 3), dtype = int)\n",
    "A"
   ]
  },
  {
   "cell_type": "code",
   "execution_count": 9,
   "id": "e62f43ae",
   "metadata": {},
   "outputs": [
    {
     "data": {
      "text/plain": [
       "array([[1., 1., 1.],\n",
       "       [1., 1., 1.]])"
      ]
     },
     "execution_count": 9,
     "metadata": {},
     "output_type": "execute_result"
    }
   ],
   "source": [
    "# specifying dtype of array B\n",
    "B = np.ones((2, 3))\n",
    "B"
   ]
  },
  {
   "cell_type": "markdown",
   "id": "a08c153c",
   "metadata": {},
   "source": [
    "# Using arrange() and reshape()"
   ]
  },
  {
   "cell_type": "code",
   "execution_count": 10,
   "id": "773a94db",
   "metadata": {},
   "outputs": [
    {
     "data": {
      "text/plain": [
       "array([0, 2, 4, 6, 8])"
      ]
     },
     "execution_count": 10,
     "metadata": {},
     "output_type": "execute_result"
    }
   ],
   "source": [
    "A = np.arange(0, 10, 2)  # (start, end, step)\n",
    "A"
   ]
  },
  {
   "cell_type": "code",
   "execution_count": 11,
   "id": "1844e304",
   "metadata": {},
   "outputs": [
    {
     "data": {
      "text/plain": [
       "array([0, 1, 2, 3])"
      ]
     },
     "execution_count": 11,
     "metadata": {},
     "output_type": "execute_result"
    }
   ],
   "source": [
    "B = np.arange(4)  # (end)\n",
    "B"
   ]
  },
  {
   "cell_type": "code",
   "execution_count": 12,
   "id": "c5459fdd",
   "metadata": {},
   "outputs": [
    {
     "data": {
      "text/plain": [
       "array([[ 0,  1,  2,  3,  4,  5],\n",
       "       [ 6,  7,  8,  9, 10, 11]])"
      ]
     },
     "execution_count": 12,
     "metadata": {},
     "output_type": "execute_result"
    }
   ],
   "source": [
    "C = np.arange(12).reshape(2, 6)  # (row, column)\n",
    "C"
   ]
  },
  {
   "cell_type": "code",
   "execution_count": 13,
   "id": "b5fa16f7",
   "metadata": {},
   "outputs": [
    {
     "data": {
      "text/plain": [
       "array([[ 0,  1,  2,  3],\n",
       "       [ 4,  5,  6,  7],\n",
       "       [ 8,  9, 10, 11]])"
      ]
     },
     "execution_count": 13,
     "metadata": {},
     "output_type": "execute_result"
    }
   ],
   "source": [
    "C = np.arange(12).reshape(3, 4)  # (row, column)\n",
    "C"
   ]
  },
  {
   "cell_type": "code",
   "execution_count": 14,
   "id": "67f09663",
   "metadata": {},
   "outputs": [
    {
     "data": {
      "text/plain": [
       "array([[4, 4],\n",
       "       [4, 4]])"
      ]
     },
     "execution_count": 14,
     "metadata": {},
     "output_type": "execute_result"
    }
   ],
   "source": [
    "D = np.full((2, 2), 4)  # full all columns with (4)\n",
    "D"
   ]
  },
  {
   "cell_type": "markdown",
   "id": "6af00d1f",
   "metadata": {},
   "source": [
    "# Addition of two matrices:\n",
    "\n",
    "## num of rows and columns of (A) must equal num of rows and columns of (B)"
   ]
  },
  {
   "cell_type": "code",
   "execution_count": 15,
   "id": "c800ee3e",
   "metadata": {},
   "outputs": [
    {
     "data": {
      "text/plain": [
       "array([[11,  1],\n",
       "       [ 8,  0]])"
      ]
     },
     "execution_count": 15,
     "metadata": {},
     "output_type": "execute_result"
    }
   ],
   "source": [
    "A = np.array([[2, 4], [5, -6]])\n",
    "B = np.array([[9, -3], [3, 6]])\n",
    "C = A + B\n",
    "C"
   ]
  },
  {
   "cell_type": "markdown",
   "id": "6cc18877",
   "metadata": {},
   "source": [
    "# Multiplication of two matrices:\n",
    "\n",
    "## num of columns of (A) must equal num of rows of (B)"
   ]
  },
  {
   "cell_type": "code",
   "execution_count": 16,
   "id": "c090d84d",
   "metadata": {},
   "outputs": [
    {
     "data": {
      "text/plain": [
       "array([[ 36, -12],\n",
       "       [ -1,   2]])"
      ]
     },
     "execution_count": 16,
     "metadata": {},
     "output_type": "execute_result"
    }
   ],
   "source": [
    "A = np.array([[3, 6, 7], [5, -3, 0]])\n",
    "B = np.array([[1, 1], [2, 1], [3, -3]])\n",
    "C = A.dot(B)  # A.dot(B) != B.dot(A)\n",
    "C"
   ]
  },
  {
   "cell_type": "markdown",
   "id": "5f35a4f2",
   "metadata": {},
   "source": [
    "# Transpose of a matrix:\n",
    "\n",
    "## The rows will become columns and the columns will become rows"
   ]
  },
  {
   "cell_type": "code",
   "execution_count": 17,
   "id": "ada0e988",
   "metadata": {},
   "outputs": [
    {
     "data": {
      "text/plain": [
       "array([[ 1,  2,  3],\n",
       "       [ 1,  1, -3]])"
      ]
     },
     "execution_count": 17,
     "metadata": {},
     "output_type": "execute_result"
    }
   ],
   "source": [
    "A = np.array([[1, 1], [2, 1], [3, -3]])\n",
    "A.transpose()"
   ]
  },
  {
   "cell_type": "markdown",
   "id": "b385918b",
   "metadata": {},
   "source": [
    "# Access matrix elements, rows, and columns with a 1D-NumPy array:"
   ]
  },
  {
   "cell_type": "code",
   "execution_count": 18,
   "id": "44e32828",
   "metadata": {},
   "outputs": [
    {
     "name": "stdout",
     "output_type": "stream",
     "text": [
      "A[0] =  2\n",
      "------------\n",
      "A[2] =  6\n",
      "------------\n",
      "A[-1] =  10\n"
     ]
    }
   ],
   "source": [
    "A = np.array([2, 4, 6, 8, 10])\n",
    "\n",
    "print('A[0] = ', A[0])     # First element\n",
    "print(12 * '-')\n",
    "\n",
    "print('A[2] = ', A[2])     # Third element\n",
    "print(12 * '-')\n",
    "\n",
    "print('A[-1] = ', A[-1])   # Last element"
   ]
  },
  {
   "cell_type": "markdown",
   "id": "01fb52b4",
   "metadata": {},
   "source": [
    "# Access matrix elements, rows, and columns with a 2D-NumPy array:"
   ]
  },
  {
   "cell_type": "code",
   "execution_count": 19,
   "id": "4bd22e21",
   "metadata": {},
   "outputs": [
    {
     "name": "stdout",
     "output_type": "stream",
     "text": [
      "A[0][0] =  1\n",
      "----------------\n",
      "A[1][2] =  9\n",
      "----------------\n",
      "A[-1][-1] =  19\n"
     ]
    }
   ],
   "source": [
    "A = np.array([[1, 4, 5, 12], [-5, 8, 9, 0], [-6, 7, 11, 19]])\n",
    "\n",
    "# First element of the first row\n",
    "print('A[0][0] = ', A[0][0])\n",
    "print(16 * '-')\n",
    "\n",
    "# Third element of the second row\n",
    "print('A[1][2] = ', A[1][2])\n",
    "print(16 * '-')\n",
    "\n",
    "# Last element of the last row\n",
    "print('A[-1][-1] = ', A[-1][-1])"
   ]
  },
  {
   "cell_type": "markdown",
   "id": "13a0c09f",
   "metadata": {},
   "source": [
    "# Access rows of a 2D-Array:"
   ]
  },
  {
   "cell_type": "code",
   "execution_count": 20,
   "id": "ddc58a21",
   "metadata": {},
   "outputs": [
    {
     "name": "stdout",
     "output_type": "stream",
     "text": [
      "A[0] =  [ 1  4  5 12]\n",
      "-----------------------\n",
      "A[2] =  [-6  7 11 19]\n",
      "-----------------------\n",
      "A[-1] =  [-6  7 11 19]\n"
     ]
    }
   ],
   "source": [
    "A = np.array([[1, 4, 5, 12], [-5, 8, 9, 0], [-6, 7, 11, 19]])\n",
    "\n",
    "print('A[0] = ', A[0])     # First row\n",
    "print(23 * '-')\n",
    "\n",
    "print('A[2] = ', A[2])     # Third row\n",
    "print(23 * '-')\n",
    "\n",
    "print('A[-1] = ', A[-1])   # Last row"
   ]
  },
  {
   "cell_type": "markdown",
   "id": "be8a2eb7",
   "metadata": {},
   "source": [
    "# Access columns of a 2D-Array:"
   ]
  },
  {
   "cell_type": "code",
   "execution_count": 21,
   "id": "a7cc5a2f",
   "metadata": {},
   "outputs": [
    {
     "name": "stdout",
     "output_type": "stream",
     "text": [
      "A[:, 0] =  [ 1 -5 -6]\n",
      "-----------------------\n",
      "A[:, 3] =  [12  0 19]\n",
      "-----------------------\n",
      "A[:, -1] =  [12  0 19]\n"
     ]
    }
   ],
   "source": [
    "A = np.array([[1, 4, 5, 12], [-5, 8, 9, 0], [-6, 7, 11, 19]])\n",
    "\n",
    "print('A[:, 0] = ', A[:, 0])      # First column\n",
    "print(23 * '-')\n",
    "\n",
    "print('A[:, 3] = ', A[:, 3])      # Fourth column\n",
    "print(23 * '-')\n",
    "\n",
    "print('A[:, -1] = ', A[:, -1])    # Last column"
   ]
  },
  {
   "cell_type": "markdown",
   "id": "d6c45d73",
   "metadata": {},
   "source": [
    "# Slicing of one-dimensional NumPy array:"
   ]
  },
  {
   "cell_type": "code",
   "execution_count": 22,
   "id": "7f6389c3",
   "metadata": {},
   "outputs": [
    {
     "name": "stdout",
     "output_type": "stream",
     "text": [
      "[5 7 9]\n",
      "-----------------\n",
      "[1 3 5 7 9]\n",
      "-----------------\n",
      "[1 3]\n",
      "-----------------\n",
      "[7 5]\n",
      "-----------------\n",
      "[1 3 5 7 9 7 5]\n",
      "-----------------\n",
      "[5 7 9 7 5 3 1]\n"
     ]
    }
   ],
   "source": [
    "letters = np.array([1, 3, 5, 7, 9, 7, 5])\n",
    "\n",
    "print(letters[2:5])     # 3rd to 5th element\n",
    "print(17 * '-')\n",
    "\n",
    "print(letters[:5])      # 1st to 5th element\n",
    "print(17 * '-')\n",
    "\n",
    "print(letters[:-5])     # 1st to 2nd element\n",
    "print(17 * '-')\n",
    "\n",
    "print(letters[5:])      # 6th to last element\n",
    "print(17 * '-')\n",
    "\n",
    "print(letters[:])       # 1st to last element\n",
    "print(17 * '-')\n",
    "\n",
    "print(letters[::-1])    # reversing a list"
   ]
  },
  {
   "cell_type": "markdown",
   "id": "0afc323b",
   "metadata": {},
   "source": [
    "# Slicing of two-dimensional NumPy array:"
   ]
  },
  {
   "cell_type": "code",
   "execution_count": 23,
   "id": "02d8c580",
   "metadata": {},
   "outputs": [
    {
     "name": "stdout",
     "output_type": "stream",
     "text": [
      "[[ 1  4  5 12]\n",
      " [-5  8  9  0]]\n",
      "--------------------\n",
      "[[ 1  4  5 12 14]]\n",
      "--------------------\n",
      "[ 5  9 11]\n",
      "--------------------\n",
      "[[ 5 12 14]\n",
      " [ 9  0 17]\n",
      " [11 19 21]]\n"
     ]
    }
   ],
   "source": [
    "A = np.array([[1, 4, 5, 12, 14], [-5, 8, 9, 0, 17], [-6, 7, 11, 19, 21]])\n",
    "\n",
    "print(A[:2, :4])  # two rows, four columns\n",
    "print(20 * '-')\n",
    "\n",
    "print(A[:1, ])    # first row, all columns\n",
    "print(20 * '-')\n",
    "\n",
    "print(A[:, 2])    # all rows, second column\n",
    "print(20 * '-')\n",
    "\n",
    "print(A[:, 2:5])  # all rows, third to the fifth column"
   ]
  },
  {
   "cell_type": "markdown",
   "id": "9ce85aff",
   "metadata": {},
   "source": [
    "# Linearly dependant &  Linearly independant:\n",
    "\n",
    "## Note:\n",
    "\n",
    "### if |AT A| = 0, then the set of vectors is Linearly Dependent.\n",
    "### else if |AT A| != 0, then the set of vectors is Linearly independent."
   ]
  },
  {
   "cell_type": "code",
   "execution_count": 24,
   "id": "e4194cc1",
   "metadata": {},
   "outputs": [
    {
     "name": "stdout",
     "output_type": "stream",
     "text": [
      "\"S\" is Linearly Independent\n"
     ]
    }
   ],
   "source": [
    "S = np.array([[1, 0, 1], [2, 1, 2], [3, 1, 2]])\n",
    "ST = S.transpose()\n",
    "STS = ST.dot(S)\n",
    "Det_STS = np.linalg.det(STS)\n",
    "if Det_STS == 0:\n",
    "    print('\"S\" is Linearly dependant')\n",
    "else:\n",
    "    print('\"S\" is Linearly Independent')"
   ]
  }
 ],
 "metadata": {
  "kernelspec": {
   "display_name": "Python 3 (ipykernel)",
   "language": "python",
   "name": "python3"
  },
  "language_info": {
   "codemirror_mode": {
    "name": "ipython",
    "version": 3
   },
   "file_extension": ".py",
   "mimetype": "text/x-python",
   "name": "python",
   "nbconvert_exporter": "python",
   "pygments_lexer": "ipython3",
   "version": "3.11.5"
  }
 },
 "nbformat": 4,
 "nbformat_minor": 5
}
